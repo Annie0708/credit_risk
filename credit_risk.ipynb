{
 "cells": [
  {
   "cell_type": "code",
   "execution_count": 1,
   "id": "59f48786",
   "metadata": {},
   "outputs": [],
   "source": [
    "import numpy as np\n",
    "import pandas as pd\n",
    "import scikitplot as skplt\n",
    "import joblib\n",
    "\n",
    "from sklearn import metrics\n",
    "\n",
    "from sklearn.tree import DecisionTreeClassifier\n",
    "from sklearn.ensemble import RandomForestClassifier\n",
    "\n",
    "from sklearn.model_selection import cross_validate, StratifiedKFold, cross_val_predict, train_test_split\n"
   ]
  },
  {
   "cell_type": "code",
   "execution_count": 2,
   "id": "b0e720ef",
   "metadata": {},
   "outputs": [],
   "source": [
    "df = pd.read_csv('./german_credit_data.csv')"
   ]
  },
  {
   "cell_type": "code",
   "execution_count": 3,
   "id": "a37ed48f",
   "metadata": {},
   "outputs": [
    {
     "name": "stdout",
     "output_type": "stream",
     "text": [
      "<class 'pandas.core.frame.DataFrame'>\n",
      "RangeIndex: 1000 entries, 0 to 999\n",
      "Data columns (total 11 columns):\n",
      " #   Column            Non-Null Count  Dtype \n",
      "---  ------            --------------  ----- \n",
      " 0   Unnamed: 0        1000 non-null   int64 \n",
      " 1   Age               1000 non-null   int64 \n",
      " 2   Sex               1000 non-null   object\n",
      " 3   Job               1000 non-null   int64 \n",
      " 4   Housing           1000 non-null   object\n",
      " 5   Saving accounts   817 non-null    object\n",
      " 6   Checking account  606 non-null    object\n",
      " 7   Credit amount     1000 non-null   int64 \n",
      " 8   Duration          1000 non-null   int64 \n",
      " 9   Purpose           1000 non-null   object\n",
      " 10  Risk              1000 non-null   object\n",
      "dtypes: int64(5), object(6)\n",
      "memory usage: 86.1+ KB\n"
     ]
    }
   ],
   "source": [
    "df.info()"
   ]
  },
  {
   "cell_type": "code",
   "execution_count": 4,
   "id": "12d80b1e",
   "metadata": {},
   "outputs": [
    {
     "data": {
      "text/html": [
       "<div>\n",
       "<style scoped>\n",
       "    .dataframe tbody tr th:only-of-type {\n",
       "        vertical-align: middle;\n",
       "    }\n",
       "\n",
       "    .dataframe tbody tr th {\n",
       "        vertical-align: top;\n",
       "    }\n",
       "\n",
       "    .dataframe thead th {\n",
       "        text-align: right;\n",
       "    }\n",
       "</style>\n",
       "<table border=\"1\" class=\"dataframe\">\n",
       "  <thead>\n",
       "    <tr style=\"text-align: right;\">\n",
       "      <th></th>\n",
       "      <th>Unnamed: 0</th>\n",
       "      <th>Age</th>\n",
       "      <th>Sex</th>\n",
       "      <th>Job</th>\n",
       "      <th>Housing</th>\n",
       "      <th>Saving accounts</th>\n",
       "      <th>Checking account</th>\n",
       "      <th>Credit amount</th>\n",
       "      <th>Duration</th>\n",
       "      <th>Purpose</th>\n",
       "      <th>Risk</th>\n",
       "    </tr>\n",
       "  </thead>\n",
       "  <tbody>\n",
       "    <tr>\n",
       "      <th>0</th>\n",
       "      <td>0</td>\n",
       "      <td>67</td>\n",
       "      <td>male</td>\n",
       "      <td>2</td>\n",
       "      <td>own</td>\n",
       "      <td>NaN</td>\n",
       "      <td>little</td>\n",
       "      <td>1169</td>\n",
       "      <td>6</td>\n",
       "      <td>radio/TV</td>\n",
       "      <td>good</td>\n",
       "    </tr>\n",
       "    <tr>\n",
       "      <th>1</th>\n",
       "      <td>1</td>\n",
       "      <td>22</td>\n",
       "      <td>female</td>\n",
       "      <td>2</td>\n",
       "      <td>own</td>\n",
       "      <td>little</td>\n",
       "      <td>moderate</td>\n",
       "      <td>5951</td>\n",
       "      <td>48</td>\n",
       "      <td>radio/TV</td>\n",
       "      <td>bad</td>\n",
       "    </tr>\n",
       "    <tr>\n",
       "      <th>2</th>\n",
       "      <td>2</td>\n",
       "      <td>49</td>\n",
       "      <td>male</td>\n",
       "      <td>1</td>\n",
       "      <td>own</td>\n",
       "      <td>little</td>\n",
       "      <td>NaN</td>\n",
       "      <td>2096</td>\n",
       "      <td>12</td>\n",
       "      <td>education</td>\n",
       "      <td>good</td>\n",
       "    </tr>\n",
       "    <tr>\n",
       "      <th>3</th>\n",
       "      <td>3</td>\n",
       "      <td>45</td>\n",
       "      <td>male</td>\n",
       "      <td>2</td>\n",
       "      <td>free</td>\n",
       "      <td>little</td>\n",
       "      <td>little</td>\n",
       "      <td>7882</td>\n",
       "      <td>42</td>\n",
       "      <td>furniture/equipment</td>\n",
       "      <td>good</td>\n",
       "    </tr>\n",
       "    <tr>\n",
       "      <th>4</th>\n",
       "      <td>4</td>\n",
       "      <td>53</td>\n",
       "      <td>male</td>\n",
       "      <td>2</td>\n",
       "      <td>free</td>\n",
       "      <td>little</td>\n",
       "      <td>little</td>\n",
       "      <td>4870</td>\n",
       "      <td>24</td>\n",
       "      <td>car</td>\n",
       "      <td>bad</td>\n",
       "    </tr>\n",
       "  </tbody>\n",
       "</table>\n",
       "</div>"
      ],
      "text/plain": [
       "   Unnamed: 0  Age     Sex  Job Housing Saving accounts Checking account  \\\n",
       "0           0   67    male    2     own             NaN           little   \n",
       "1           1   22  female    2     own          little         moderate   \n",
       "2           2   49    male    1     own          little              NaN   \n",
       "3           3   45    male    2    free          little           little   \n",
       "4           4   53    male    2    free          little           little   \n",
       "\n",
       "   Credit amount  Duration              Purpose  Risk  \n",
       "0           1169         6             radio/TV  good  \n",
       "1           5951        48             radio/TV   bad  \n",
       "2           2096        12            education  good  \n",
       "3           7882        42  furniture/equipment  good  \n",
       "4           4870        24                  car   bad  "
      ]
     },
     "execution_count": 4,
     "metadata": {},
     "output_type": "execute_result"
    }
   ],
   "source": [
    "df.head()"
   ]
  },
  {
   "cell_type": "code",
   "execution_count": 5,
   "id": "e6d2e24e",
   "metadata": {},
   "outputs": [],
   "source": [
    "categories = df['Risk'].value_counts()"
   ]
  },
  {
   "cell_type": "code",
   "execution_count": 6,
   "id": "9d1d8dfb",
   "metadata": {},
   "outputs": [
    {
     "data": {
      "text/plain": [
       "<AxesSubplot:title={'center':'Klasy'}, ylabel='Liczebność klasy'>"
      ]
     },
     "execution_count": 6,
     "metadata": {},
     "output_type": "execute_result"
    },
    {
     "data": {
      "image/png": "[encoded data removed]",
      "text/plain": [
       "<Figure size 432x288 with 1 Axes>"
      ]
     },
     "metadata": {
      "needs_background": "light"
     },
     "output_type": "display_data"
    }
   ],
   "source": [
    "categories.plot.bar(ylabel='Liczebność klasy', title='Klasy')"
   ]
  },
  {
   "cell_type": "code",
   "execution_count": 7,
   "id": "13b2e0e9",
   "metadata": {},
   "outputs": [],
   "source": [
    "if 'Unnamed: 0' in df: del df['Unnamed: 0']"
   ]
  },
  {
   "cell_type": "code",
   "execution_count": 8,
   "id": "40d74b5a",
   "metadata": {},
   "outputs": [],
   "source": [
    "df = pd.concat([df, pd.get_dummies(df.Sex, prefix='Sex')], axis=1)\n",
    "df = pd.concat([df, pd.get_dummies(df.Purpose, prefix='Purpose')], axis=1)\n",
    "df = df.rename(columns = {'Credit amount':'Credit_amount','Purpose_business':'P_buisness', 'Purpose_car':'P_car', 'Purpose_domestic appliances':'P_domestic_appliances', 'Purpose_education':'P_education', 'Purpose_furniture/equipment':'P_furniture_equipment', 'Purpose_radio/TV':'P_radio_TV', 'Purpose_repairs':'P_repairs', 'Purpose_vacation/others':'P_vacation_others'})"
   ]
  },
  {
   "cell_type": "code",
   "execution_count": 9,
   "id": "024b10ff",
   "metadata": {},
   "outputs": [],
   "source": [
    "def house(row):\n",
    "    if row['Housing'] == 'free': return 0\n",
    "    elif row['Housing'] == 'rent': return 1\n",
    "    else: return 2\n",
    "df['House'] = df[['Housing']].apply(house, axis=1)\n",
    "\n",
    "def savings(row):\n",
    "    if row['Saving accounts'] == 'little': return 1\n",
    "    elif row['Saving accounts'] == 'moderate': return 2\n",
    "    elif row['Saving accounts'] == 'quite rich': return 3\n",
    "    elif row['Saving accounts'] == 'rich': return 4\n",
    "    else: return 0\n",
    "df['Savings'] = df[['Saving accounts']].apply(savings, axis=1)\n",
    "\n",
    "def checking_acc(row):\n",
    "    if row['Checking account'] == 'little': return 1\n",
    "    elif row['Checking account'] == 'moderate': return 2\n",
    "    elif row['Checking account'] == 'rich': return 3\n",
    "    else: return 0\n",
    "df['Checking_acc'] = df[['Checking account']].apply(checking_acc, axis=1)\n",
    "\n",
    "def category(row):\n",
    "    if row['Risk'] == 'bad': return 1 \n",
    "    else: return 0\n",
    "df['Class'] = df[['Risk']].apply(category, axis=1)"
   ]
  },
  {
   "cell_type": "code",
   "execution_count": 10,
   "id": "549d1ab7",
   "metadata": {},
   "outputs": [
    {
     "data": {
      "text/html": [
       "<div>\n",
       "<style scoped>\n",
       "    .dataframe tbody tr th:only-of-type {\n",
       "        vertical-align: middle;\n",
       "    }\n",
       "\n",
       "    .dataframe tbody tr th {\n",
       "        vertical-align: top;\n",
       "    }\n",
       "\n",
       "    .dataframe thead th {\n",
       "        text-align: right;\n",
       "    }\n",
       "</style>\n",
       "<table border=\"1\" class=\"dataframe\">\n",
       "  <thead>\n",
       "    <tr style=\"text-align: right;\">\n",
       "      <th></th>\n",
       "      <th>Age</th>\n",
       "      <th>Sex</th>\n",
       "      <th>Job</th>\n",
       "      <th>Housing</th>\n",
       "      <th>Saving accounts</th>\n",
       "      <th>Checking account</th>\n",
       "      <th>Credit_amount</th>\n",
       "      <th>Duration</th>\n",
       "      <th>Purpose</th>\n",
       "      <th>Risk</th>\n",
       "      <th>...</th>\n",
       "      <th>P_domestic_appliances</th>\n",
       "      <th>P_education</th>\n",
       "      <th>P_furniture_equipment</th>\n",
       "      <th>P_radio_TV</th>\n",
       "      <th>P_repairs</th>\n",
       "      <th>P_vacation_others</th>\n",
       "      <th>House</th>\n",
       "      <th>Savings</th>\n",
       "      <th>Checking_acc</th>\n",
       "      <th>Class</th>\n",
       "    </tr>\n",
       "  </thead>\n",
       "  <tbody>\n",
       "    <tr>\n",
       "      <th>369</th>\n",
       "      <td>40</td>\n",
       "      <td>female</td>\n",
       "      <td>2</td>\n",
       "      <td>rent</td>\n",
       "      <td>little</td>\n",
       "      <td>moderate</td>\n",
       "      <td>3001</td>\n",
       "      <td>18</td>\n",
       "      <td>furniture/equipment</td>\n",
       "      <td>good</td>\n",
       "      <td>...</td>\n",
       "      <td>0</td>\n",
       "      <td>0</td>\n",
       "      <td>1</td>\n",
       "      <td>0</td>\n",
       "      <td>0</td>\n",
       "      <td>0</td>\n",
       "      <td>1</td>\n",
       "      <td>1</td>\n",
       "      <td>2</td>\n",
       "      <td>0</td>\n",
       "    </tr>\n",
       "    <tr>\n",
       "      <th>875</th>\n",
       "      <td>40</td>\n",
       "      <td>female</td>\n",
       "      <td>2</td>\n",
       "      <td>own</td>\n",
       "      <td>rich</td>\n",
       "      <td>moderate</td>\n",
       "      <td>1322</td>\n",
       "      <td>11</td>\n",
       "      <td>car</td>\n",
       "      <td>good</td>\n",
       "      <td>...</td>\n",
       "      <td>0</td>\n",
       "      <td>0</td>\n",
       "      <td>0</td>\n",
       "      <td>0</td>\n",
       "      <td>0</td>\n",
       "      <td>0</td>\n",
       "      <td>2</td>\n",
       "      <td>4</td>\n",
       "      <td>2</td>\n",
       "      <td>0</td>\n",
       "    </tr>\n",
       "    <tr>\n",
       "      <th>560</th>\n",
       "      <td>49</td>\n",
       "      <td>male</td>\n",
       "      <td>2</td>\n",
       "      <td>free</td>\n",
       "      <td>NaN</td>\n",
       "      <td>little</td>\n",
       "      <td>2964</td>\n",
       "      <td>24</td>\n",
       "      <td>car</td>\n",
       "      <td>good</td>\n",
       "      <td>...</td>\n",
       "      <td>0</td>\n",
       "      <td>0</td>\n",
       "      <td>0</td>\n",
       "      <td>0</td>\n",
       "      <td>0</td>\n",
       "      <td>0</td>\n",
       "      <td>0</td>\n",
       "      <td>0</td>\n",
       "      <td>1</td>\n",
       "      <td>0</td>\n",
       "    </tr>\n",
       "    <tr>\n",
       "      <th>590</th>\n",
       "      <td>58</td>\n",
       "      <td>female</td>\n",
       "      <td>1</td>\n",
       "      <td>own</td>\n",
       "      <td>little</td>\n",
       "      <td>little</td>\n",
       "      <td>385</td>\n",
       "      <td>12</td>\n",
       "      <td>radio/TV</td>\n",
       "      <td>good</td>\n",
       "      <td>...</td>\n",
       "      <td>0</td>\n",
       "      <td>0</td>\n",
       "      <td>0</td>\n",
       "      <td>1</td>\n",
       "      <td>0</td>\n",
       "      <td>0</td>\n",
       "      <td>2</td>\n",
       "      <td>1</td>\n",
       "      <td>1</td>\n",
       "      <td>0</td>\n",
       "    </tr>\n",
       "    <tr>\n",
       "      <th>138</th>\n",
       "      <td>35</td>\n",
       "      <td>male</td>\n",
       "      <td>2</td>\n",
       "      <td>own</td>\n",
       "      <td>NaN</td>\n",
       "      <td>moderate</td>\n",
       "      <td>2728</td>\n",
       "      <td>15</td>\n",
       "      <td>radio/TV</td>\n",
       "      <td>good</td>\n",
       "      <td>...</td>\n",
       "      <td>0</td>\n",
       "      <td>0</td>\n",
       "      <td>0</td>\n",
       "      <td>1</td>\n",
       "      <td>0</td>\n",
       "      <td>0</td>\n",
       "      <td>2</td>\n",
       "      <td>0</td>\n",
       "      <td>2</td>\n",
       "      <td>0</td>\n",
       "    </tr>\n",
       "  </tbody>\n",
       "</table>\n",
       "<p>5 rows × 24 columns</p>\n",
       "</div>"
      ],
      "text/plain": [
       "     Age     Sex  Job Housing Saving accounts Checking account  Credit_amount  \\\n",
       "369   40  female    2    rent          little         moderate           3001   \n",
       "875   40  female    2     own            rich         moderate           1322   \n",
       "560   49    male    2    free             NaN           little           2964   \n",
       "590   58  female    1     own          little           little            385   \n",
       "138   35    male    2     own             NaN         moderate           2728   \n",
       "\n",
       "     Duration              Purpose  Risk  ...  P_domestic_appliances  \\\n",
       "369        18  furniture/equipment  good  ...                      0   \n",
       "875        11                  car  good  ...                      0   \n",
       "560        24                  car  good  ...                      0   \n",
       "590        12             radio/TV  good  ...                      0   \n",
       "138        15             radio/TV  good  ...                      0   \n",
       "\n",
       "     P_education  P_furniture_equipment  P_radio_TV  P_repairs  \\\n",
       "369            0                      1           0          0   \n",
       "875            0                      0           0          0   \n",
       "560            0                      0           0          0   \n",
       "590            0                      0           1          0   \n",
       "138            0                      0           1          0   \n",
       "\n",
       "     P_vacation_others  House  Savings  Checking_acc  Class  \n",
       "369                  0      1        1             2      0  \n",
       "875                  0      2        4             2      0  \n",
       "560                  0      0        0             1      0  \n",
       "590                  0      2        1             1      0  \n",
       "138                  0      2        0             2      0  \n",
       "\n",
       "[5 rows x 24 columns]"
      ]
     },
     "execution_count": 10,
     "metadata": {},
     "output_type": "execute_result"
    }
   ],
   "source": [
    "df.sample(5)"
   ]
  },
  {
   "cell_type": "markdown",
   "id": "16028f2b",
   "metadata": {},
   "source": [
    "### Przygotowanie modelu"
   ]
  },
  {
   "cell_type": "code",
   "execution_count": 52,
   "id": "07e8358c",
   "metadata": {},
   "outputs": [],
   "source": [
    "def get_attributes(df, black_list=['Class']):\n",
    "    num_attr = df.select_dtypes(np.number).columns\n",
    "    return [i for i in num_attr if i not in black_list]\n",
    "attributes = get_attributes(df)\n",
    "\n",
    "def get_X_y(df, attributes=None):\n",
    "    if attributes is None:\n",
    "        attributes = get_attributes(df)\n",
    "        \n",
    "    X = df[attributes].values\n",
    "    y = df['Class'].values\n",
    "    \n",
    "    return X, y\n",
    "\n",
    "X, y = get_X_y(df)"
   ]
  },
  {
   "cell_type": "code",
   "execution_count": 53,
   "id": "e24ed41e",
   "metadata": {},
   "outputs": [
    {
     "name": "stdout",
     "output_type": "stream",
     "text": [
      "Cechy wykorzystywane w modelu: \n",
      " ['Age', 'Job', 'Credit_amount', 'Duration', 'Sex_female', 'Sex_male', 'P_buisness', 'P_car', 'P_domestic_appliances', 'P_education', 'P_furniture_equipment', 'P_radio_TV', 'P_repairs', 'P_vacation_others', 'House', 'Savings', 'Checking_acc']\n"
     ]
    }
   ],
   "source": [
    "print('Cechy wykorzystywane w modelu: \\n', attributes)\n",
    "# print('Macierz cech: \\n', X)\n",
    "# print('Wektor klas: \\n', y)"
   ]
  },
  {
   "cell_type": "code",
   "execution_count": 54,
   "id": "b02bce76",
   "metadata": {},
   "outputs": [],
   "source": [
    "# model = RandomForestClassifier()\n",
    "# model.fit(X,y)\n",
    "# y_pred = model.predict(X)\n",
    "# skplt.metrics.plot_confusion_matrix(y_true=y, y_pred=y_pred)\n",
    "# print(metrics.classification_report(y_true=y, y_pred=y_pred))"
   ]
  },
  {
   "cell_type": "code",
   "execution_count": 55,
   "id": "a6bfd584",
   "metadata": {},
   "outputs": [],
   "source": [
    "def macierz_raport(model, X, y):\n",
    "    y_pred = cross_val_predict(model, X, y, cv=5)\n",
    "    skplt.metrics.plot_confusion_matrix(y_true=y, y_pred=y_pred)\n",
    "    raport = metrics.classification_report(y_true=y, y_pred=y_pred)\n",
    "    print(raport) "
   ]
  },
  {
   "cell_type": "code",
   "execution_count": 56,
   "id": "06af4412",
   "metadata": {},
   "outputs": [
    {
     "name": "stdout",
     "output_type": "stream",
     "text": [
      "              precision    recall  f1-score   support\n",
      "\n",
      "           0       0.77      0.88      0.82       700\n",
      "           1       0.58      0.39      0.46       300\n",
      "\n",
      "    accuracy                           0.73      1000\n",
      "   macro avg       0.67      0.63      0.64      1000\n",
      "weighted avg       0.71      0.73      0.71      1000\n",
      "\n"
     ]
    },
    {
     "data": {
      "image/png": "[encoded data removed]",
      "text/plain": [
       "<Figure size 432x288 with 2 Axes>"
      ]
     },
     "metadata": {
      "needs_background": "light"
     },
     "output_type": "display_data"
    }
   ],
   "source": [
    "model_RandomForest = RandomForestClassifier()\n",
    "cv = StratifiedKFold(n_splits=5, random_state=100, shuffle=True)   \n",
    "for train_index, test_index in cv.split(X, y):\n",
    "    X_train, X_test = X[train_index], X[test_index]\n",
    "    y_train, y_test = y[train_index], y[test_index]\n",
    "    model_RandomForest.fit(X_train, y_train)\n",
    "    predicted_values = model_RandomForest.predict(X_test)\n",
    "    \n",
    "macierz_raport(model_RandomForest , X, y)"
   ]
  },
  {
   "cell_type": "code",
   "execution_count": 57,
   "id": "dab52d63",
   "metadata": {},
   "outputs": [
    {
     "data": {
      "image/png": "[encoded data removed]",
      "text/plain": [
       "<Figure size 1080x360 with 1 Axes>"
      ]
     },
     "metadata": {
      "needs_background": "light"
     },
     "output_type": "display_data"
    }
   ],
   "source": [
    "skplt.estimators.plot_feature_importances(model_RandomForest, feature_names=attributes, x_tick_rotation=90, figsize=(15, 5));"
   ]
  },
  {
   "cell_type": "code",
   "execution_count": 58,
   "id": "449a740f",
   "metadata": {},
   "outputs": [
    {
     "data": {
      "image/png": "[encoded data removed]",
      "text/plain": [
       "<Figure size 1080x360 with 1 Axes>"
      ]
     },
     "metadata": {
      "needs_background": "light"
     },
     "output_type": "display_data"
    }
   ],
   "source": [
    "skplt.estimators.plot_learning_curve(model_RandomForest, X, y, cv=5, figsize=(15, 5), scoring='accuracy');"
   ]
  },
  {
   "cell_type": "code",
   "execution_count": 59,
   "id": "381ce205",
   "metadata": {},
   "outputs": [
    {
     "data": {
      "text/plain": [
       "['./random_forest_cross.pkl']"
      ]
     },
     "execution_count": 59,
     "metadata": {},
     "output_type": "execute_result"
    }
   ],
   "source": [
    "joblib.dump(model_RandomForest, './random_forest_cross.pkl')"
   ]
  },
  {
   "cell_type": "code",
   "execution_count": 60,
   "id": "b52eb0df",
   "metadata": {},
   "outputs": [],
   "source": [
    "model = joblib.load('./random_forest_cross.pkl')"
   ]
  },
  {
   "cell_type": "code",
   "execution_count": 77,
   "id": "62e18ebe",
   "metadata": {},
   "outputs": [
    {
     "data": {
      "text/plain": [
       "array([1], dtype=int64)"
      ]
     },
     "execution_count": 77,
     "metadata": {},
     "output_type": "execute_result"
    }
   ],
   "source": [
    "model.predict([[22,2,5951,48,1,0,0,0,0,0,0,1,0,0,2,1,2]])"
   ]
  },
  {
   "cell_type": "code",
   "execution_count": 78,
   "id": "44a0baea",
   "metadata": {},
   "outputs": [],
   "source": [
    "def get_pred(Age=None, Job=None, Credit_amount=None, Duration=None, Sex_female=None, Sex_male=None, P_business=None, P_car=None, P_domestic_appliances=None, P_education=None, P_furniture_equipment=None, P_radio_TV=None, P_repairs=None, P_vacation_others=None, House=None, Savings=None, Checking_acc=None):\n",
    "    model = joblib.load('./random_forest_cross.pkl')\n",
    "    y_pred = model.predict( [[Age, Job, Credit_amount, Duration, Sex_female, Sex_male, P_business, P_car, P_domestic_appliances, P_education, P_furniture_equipment, P_radio_TV, P_repairs, P_vacation_others, House, Savings, Checking_acc]] )\n",
    "    return y_pred"
   ]
  },
  {
   "cell_type": "code",
   "execution_count": 79,
   "id": "3123193e",
   "metadata": {},
   "outputs": [
    {
     "data": {
      "text/plain": [
       "array([1], dtype=int64)"
      ]
     },
     "execution_count": 79,
     "metadata": {},
     "output_type": "execute_result"
    }
   ],
   "source": [
    "get_pred(22,2,5951,48,1,0,0,0,0,0,0,1,0,0,2,1,2)"
   ]
  },
  {
   "cell_type": "code",
   "execution_count": 85,
   "id": "c45da3ac",
   "metadata": {},
   "outputs": [
    {
     "name": "stdout",
     "output_type": "stream",
     "text": [
      "Overwriting credit_server.py\n"
     ]
    }
   ],
   "source": [
    "%%writefile credit_server.py\n",
    "\n",
    "import joblib\n",
    "from flask import Flask, request, jsonify, render_template, escape\n",
    "app = Flask(__name__)\n",
    "\n",
    "def get_pred(Age=None, Job=None, Credit_amount=None, Duration=None, Sex_female=None, Sex_male=None, \n",
    "             P_business=None, P_car=None, P_domestic_appliances=None, P_education=None, P_furniture_equipment=None, \n",
    "             P_radio_TV=None, P_repairs=None, P_vacation_others=None, House=None, Savings=None, Checking_acc=None):\n",
    "    model = joblib.load('./random_forest_cross.pkl')\n",
    "    y_pred = model.predict([[Age, Job, Credit_amount, Duration, Sex_female, Sex_male, P_business, P_car, \n",
    "                              P_domestic_appliances, P_education, P_furniture_equipment, P_radio_TV, P_repairs, \n",
    "                              P_vacation_others, House, Savings, Checking_acc]])\n",
    "    return y_pred\n",
    "\n",
    "\n",
    "@app.route('/', methods=['GET', 'POST'])\n",
    "def upload_data():\n",
    "    if request.method == 'POST':\n",
    "        print(\"IN\")\n",
    "        print(request.values)\n",
    "        Age = request.values['Age']\n",
    "        Job = int(request.values['Job'])\n",
    "        Credit_amount = request.values['Credit_amount']\n",
    "        Duration = request.values['Duration']\n",
    "        Sex_female = 1 if request.values['Sex'] == 'F' else 0\n",
    "        Sex_male = 1 if request.values['Sex'] == 'M' else 0\n",
    "        P_business = 1 if request.values['Purpose'] == 'business' else 0\n",
    "        P_car = 1 if request.values['Purpose'] == 'car' else 0\n",
    "        P_domestic_appliances = 1 if request.values['Purpose'] == 'domestic_appliances' else 0\n",
    "        P_education = 1 if request.values['Purpose'] == 'education' else 0\n",
    "        P_furniture_equipment = 1 if request.values['Purpose'] == 'furniture_equipment' else 0\n",
    "        P_radio_TV = 1 if request.values['Purpose'] == 'radio_TV' else 0\n",
    "        P_repairs = 1 if request.values['Purpose'] == 'repairs' else 0\n",
    "        P_vacation_others = 1 if request.values['Purpose'] == 'vacation_others' else 0\n",
    "        House = int(request.values['House'])\n",
    "        Savings = int(request.values['Savings'])\n",
    "        Checking_acc = int(request.values['Checking_acc'])\n",
    "        result = get_pred(Age, Job, Credit_amount, Duration, Sex_female, Sex_male, P_business, \n",
    "                              P_car, P_domestic_appliances, P_education, P_furniture_equipment, P_radio_TV, \n",
    "                              P_repairs, P_vacation_others, House, Savings, Checking_acc)\n",
    "        label_pred = \"Bad\" if result == 1 else \"Good\"\n",
    "        \n",
    "        return '''\n",
    "        <!doctype html>\n",
    "        <title>Credit risk classification</title>\n",
    "        <h1>Credit risk</h1>\n",
    "        <p>Prediction result</p> \n",
    "        <p>Credit risk: {} </p>\n",
    "        '''.format(escape(label_pred))\n",
    "    \n",
    "    return '''\n",
    "    <!doctype html>\n",
    "    <title>Credit risk classification</title>\n",
    "    <h1>Credit risk classification</h1>\n",
    "    <p>Enter data to predict credit risk</p>\n",
    "    <form method=post enctype=multipart/form-data>\n",
    "      <p><label>Credit amount</label><BR><input type=\"text\" name=\"Credit_amount\"/>\n",
    "      <p><label>Duration in months</label><BR><input type=\"text\" name=\"Duration\"/>\n",
    "      <p><label>Age</label><BR><input type=\"text\" name=\"Age\"/>\n",
    "      <p><label>Sex</label><BR><input type=\"radio\" name=\"Sex\" value=\"F\"/>female\n",
    "      <input type=\"radio\" name=\"Sex\" value=\"M\"/>male\n",
    "      <p><label>Purpose</label><BR><input type=\"radio\" name=\"Purpose\" value=\"business\"/>business\n",
    "      <input type=\"radio\" name=\"Purpose\" value=\"car\"/>car\n",
    "      <input type=\"radio\" name=\"Purpose\" value=\"education\"/>education\n",
    "      <input type=\"radio\" name=\"Purpose\" value=\"domestic_appliances\"/>domestic appliances\n",
    "      <input type=\"radio\" name=\"Purpose\" value=\"repairs\"/>repairs\n",
    "      <input type=\"radio\" name=\"Purpose\" value=\"furniture_equipment\"/>furniture/equipment\n",
    "      <input type=\"radio\" name=\"Purpose\" value=\"radio_TV\"/>radio/TV\n",
    "      <input type=\"radio\" name=\"Purpose\" value=\"vacation_others\"/>vacation/others\n",
    "      <p><label>Job</label><BR><input type=\"radio\" name=\"Job\" value=\"0\"/>unskilled and non-resident\n",
    "      <input type=\"radio\" name=\"Job\" value=\"1\"/>unskilled and resident\n",
    "      <input type=\"radio\" name=\"Job\" value=\"2\"/>skilled\n",
    "      <input type=\"radio\" name=\"Job\" value=\"3\"/>highly skilled\n",
    "      <p><label>House</label><BR><input type=\"radio\" name=\"House\" value=\"0\"/>free\n",
    "      <input type=\"radio\" name=\"House\" value=\"1\"/>rent\n",
    "      <input type=\"radio\" name=\"House\" value=\"2\"/>own\n",
    "      <p><label>Checking account</label><BR><input type=\"radio\" name=\"Checking_acc\" value=\"1\"/>little\n",
    "      <input type=\"radio\" name=\"Checking_acc\" value=\"2\"/>moderate\n",
    "      <input type=\"radio\" name=\"Checking_acc\" value=\"3\"/>rich\n",
    "      <p><label>Savings</label><BR><input type=\"radio\" name=\"Savings\" value=\"1\"/>little\n",
    "      <input type=\"radio\" name=\"Savings\" value=\"2\"/>moderate\n",
    "      <input type=\"radio\" name=\"Savings\" value=\"3\"/>quite rich\n",
    "      <input type=\"radio\" name=\"Savings\" value=\"4\"/>rich  \n",
    "      <p><input type=submit value=\"Submit\"><BR>\n",
    "      <p><input type=\"reset\" value=\"Reset\">\n",
    "    </form>\n",
    "    '''\n"
   ]
  },
  {
   "cell_type": "code",
   "execution_count": 65,
   "id": "3aa2ccb9",
   "metadata": {},
   "outputs": [],
   "source": [
    "PORT=5000\n",
    "HOST='0.0.0.0' "
   ]
  },
  {
   "cell_type": "code",
   "execution_count": 68,
   "id": "ed32885c",
   "metadata": {},
   "outputs": [],
   "source": [
    "# set FLASK_APP=credit_server.py\n",
    "# flask run --port \"5000\" --host \"0.0.0.0\""
   ]
  },
  {
   "cell_type": "code",
   "execution_count": 84,
   "id": "04e323af",
   "metadata": {},
   "outputs": [
    {
     "name": "stderr",
     "output_type": "stream",
     "text": [
      "'FLASK_APP' is not recognized as an internal or external command,\n",
      "operable program or batch file.\n"
     ]
    }
   ],
   "source": [
    "!FLASK_APP=credit_server.py flask run --port \"$PORT\" --host \"$HOST\""
   ]
  },
  {
   "cell_type": "markdown",
   "id": "f0b25980",
   "metadata": {},
   "source": [
    "### Prediction app view "
   ]
  },
  {
   "cell_type": "markdown",
   "id": "1714cfdd",
   "metadata": {},
   "source": [
    "<img src=\"./picture_1.png\">"
   ]
  },
  {
   "cell_type": "markdown",
   "id": "678abb43",
   "metadata": {},
   "source": [
    "<img src=\"./picture_2.png\">"
   ]
  },
  {
   "cell_type": "code",
   "execution_count": null,
   "id": "4028b418",
   "metadata": {},
   "outputs": [],
   "source": []
  }
 ],
 "metadata": {
  "kernelspec": {
   "display_name": "Python 3",
   "language": "python",
   "name": "python3"
  },
  "language_info": {
   "codemirror_mode": {
    "name": "ipython",
    "version": 3
   },
   "file_extension": ".py",
   "mimetype": "text/x-python",
   "name": "python",
   "nbconvert_exporter": "python",
   "pygments_lexer": "ipython3",
   "version": "3.8.8"
  }
 },
 "nbformat": 4,
 "nbformat_minor": 5
}
